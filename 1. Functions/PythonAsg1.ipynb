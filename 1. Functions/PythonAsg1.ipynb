{
 "cells": [
  {
   "cell_type": "markdown",
   "metadata": {},
   "source": [
    "# Python Assignment 1 "
   ]
  },
  {
   "cell_type": "markdown",
   "metadata": {},
   "source": [
    "### Part 1 : Number Guessing Game"
   ]
  },
  {
   "cell_type": "code",
   "execution_count": 1,
   "metadata": {
    "collapsed": false
   },
   "outputs": [
    {
     "name": "stdout",
     "output_type": "stream",
     "text": [
      "Number Guessing Game Starts...\n",
      "Enter your guess number in range[1 to 20] :10\n",
      "Your guess is too low\n",
      "Enter your guess number in range[1 to 20] :13\n",
      "Your guess is too low\n",
      "Enter your guess number in range[1 to 20] :16\n",
      "You are close :)\n",
      "Enter your guess number in range[1 to 20] :15\n",
      "You are close :)\n",
      "Enter your guess number in range[1 to 20] :17\n",
      "You guessed it right!\n",
      "You won the game!\n"
     ]
    }
   ],
   "source": [
    "import random\n",
    "#Selecting a random number using randint function under random package\n",
    "selectedNumber= random.randint(1,20)\n",
    "\n",
    "flag=False;\n",
    "print(\"Number Guessing Game Starts...\")\n",
    "for i in range(5) :\n",
    "    inputNumber=int(input('Enter your guess number in range[1 to 20] :'))\n",
    "    if (inputNumber == selectedNumber):\n",
    "        print(\"You guessed it right!\")\n",
    "        flag=True\n",
    "        break\n",
    "    else :\n",
    "        if(inputNumber > (selectedNumber+2)):\n",
    "            print(\"Your guess is too high\")\n",
    "        elif(inputNumber < (selectedNumber-2)):\n",
    "            print(\"Your guess is too low\")\n",
    "        else:\n",
    "            print(\"You are close :)\")\n",
    "\n",
    "if(flag==True):\n",
    "    print(\"You won the game!\")\n",
    "else:\n",
    "    print(\"You lost the game, better luck next time.\")"
   ]
  },
  {
   "cell_type": "markdown",
   "metadata": {},
   "source": [
    "### Part 2 : ROT 13 Cypher"
   ]
  },
  {
   "cell_type": "code",
   "execution_count": 2,
   "metadata": {
    "collapsed": false
   },
   "outputs": [
    {
     "name": "stdout",
     "output_type": "stream",
     "text": [
      "Test Case 1: Test\n",
      "TEST\n",
      "Test Case 2: 002Test002\n",
      "002test002\n",
      "Test Case 3: Testing space Testing\n",
      "TESTING SPACE TESTING\n",
      "Test Case 4: 0123456789\n",
      "0123456789\n",
      "Test Case 5: all lower case\n",
      "all lower case\n",
      "Test Case 6: ALL UPPER CASE\n",
      "ALL UPPER CASE\n"
     ]
    }
   ],
   "source": [
    "#Defining a function to do the ROT13 cypher. It accepts input string and an optional 'case' argument.\n",
    "#By default the value of this argument is kept as Upper.\n",
    "\n",
    "def cypherROT13(inputString, case=\"Upper\"):\n",
    "    cypher = str.maketrans(\"ABCDEFGHIJKLMNOPQRSTUVWXYZabcdefghijklmnopqrstuvwxyz\",\n",
    "                               \"NOPQRSTUVWXYZABCDEFGHIJKLMnopqrstuvwxyzabcdefghijklm\")\n",
    "    if(case==\"Lower\"):\n",
    "        return inputString.lower().translate(cypher)\n",
    "    if(case==\"Upper\"):\n",
    "        return inputString.upper().translate(cypher)\n",
    "    return \"Please input case as 'Upper' or 'Lower'\"\n",
    "\n",
    "# Testing the cypher function\n",
    "# 1. \"Test\" Just a random text\n",
    "print(cypherROT13(cypherROT13(input(\"Test Case 1: \"))))\n",
    "# 2. \"002Test002\" Input as combination of numbers and characters\n",
    "print(cypherROT13(cypherROT13(input(\"Test Case 2: \"),\"Lower\"),\"Lower\"))\n",
    "# 3. \"Testing  Space Testing\"\n",
    "print(cypherROT13(cypherROT13(input(\"Test Case 3: \"),\"Upper\"),\"Upper\"))\n",
    "# 4. \"0123456789\"\n",
    "print(cypherROT13(cypherROT13(input(\"Test Case 4: \"))))\n",
    "# 5. \"all lower cases\"\n",
    "print(cypherROT13(cypherROT13(input(\"Test Case 5: \"),\"Lower\"),\"Lower\"))\n",
    "# 6. \"ALL UPPER CASES\"\n",
    "print(cypherROT13(cypherROT13(input(\"Test Case 6: \"),\"Upper\"),\"Upper\"))"
   ]
  }
 ],
 "metadata": {
  "anaconda-cloud": {},
  "kernelspec": {
   "display_name": "Python [default]",
   "language": "python",
   "name": "python3"
  },
  "language_info": {
   "codemirror_mode": {
    "name": "ipython",
    "version": 3
   },
   "file_extension": ".py",
   "mimetype": "text/x-python",
   "name": "python",
   "nbconvert_exporter": "python",
   "pygments_lexer": "ipython3",
   "version": "3.5.2"
  }
 },
 "nbformat": 4,
 "nbformat_minor": 1
}
