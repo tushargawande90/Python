{
 "cells": [
  {
   "cell_type": "code",
   "execution_count": 32,
   "metadata": {
    "collapsed": false
   },
   "outputs": [
    {
     "name": "stdout",
     "output_type": "stream",
     "text": [
      "Actual Mean & SD = ( 170.76 83.33766084001708 )\n",
      "For n= 50\n",
      "Computed Mean & SD = ( 167.71703805095711 86.29086876366352 )\n",
      "Worst Mean & SD = ( 162.8816498623947 101.03328796535264 )\n",
      "For n= 2500\n",
      "Computed Mean & SD = ( 171.2205467383152 84.66046920711938 )\n",
      "Worst Mean & SD = ( 171.94470256584015 85.60155717117901 )\n",
      "For n= 125000\n",
      "Computed Mean & SD = ( 171.00955981149943 83.28147225252803 )\n",
      "Worst Mean & SD = ( 171.04772701806553 83.2000368189471 )\n",
      "For n= 6250000\n",
      "Computed Mean & SD = ( 170.69709332126365 83.31528015090319 )\n",
      "Worst Mean & SD = ( 170.6945679124655 83.28497797601023 )\n"
     ]
    }
   ],
   "source": [
    "# Part 1: Defining the required function that carries out specified tasks\n",
    "\n",
    "import random\n",
    "def gaussianRandom(m, sd,n=200):\n",
    "    # Making the input lenght of list odd using modulo opertation\n",
    "    if n%2 == 1 : n -=1\n",
    "        \n",
    "    # Generating the guassian list using random.guass function and list comprehension\n",
    "    generatedList = [random.gauss(m,sd) for _ in range(n)]\n",
    "    \n",
    "    # Splitting the list into three subsets\n",
    "    listPartA = generatedList[:int(len(generatedList)/2)]\n",
    "    listPartB = generatedList[int(len(generatedList)/2):]\n",
    "    listAlternate = generatedList[0::2]\n",
    "    \n",
    "    \n",
    "    # Computing the mean and standard deviation on subsets\n",
    "    meanList = [mean(listPartA),mean(listPartB), mean(listAlternate)]\n",
    "    worstMean= max(meanList,key=lambda x:abs(x-m))\n",
    "    \n",
    "    sdList = [standardDeviation(listPartA),standardDeviation(listPartB), standardDeviation(listAlternate)]\n",
    "    worstSD= max(sdList,key=lambda x:abs(x-sd))\n",
    "    \n",
    "    return (mean(generatedList),standardDeviation(generatedList)),(worstMean,worstSD)\n",
    "\n",
    "def mean(inputList):\n",
    "    sum=0\n",
    "    for i in inputList:\n",
    "        sum +=i\n",
    "    return sum/len(inputList)\n",
    "\n",
    "def standardDeviation(inputList):\n",
    "    sum=0\n",
    "    m=mean(inputList)\n",
    "    for i in inputList:\n",
    "        sum += ((m-i)**2)\n",
    "    return (sum/(len(inputList)-1))**(1/2)\n",
    "\n",
    "# Part 2: Data used is downloaded from below link\n",
    "# https://vincentarelbundock.github.io/Rdatasets/doc/datasets/USArrests.html\n",
    "# This data set contains statistics, in arrests per 100,000 residents for assault in each of the 50 US states in 1973. \n",
    "\n",
    "assaultRateList=[236,263,294,190,276,204,110,238,335,211,46,120,249,\n",
    "                 113,56,115,109,249,83,300,149,255,72,259,178,109,102,\n",
    "                 252,57,159,285,254,337,45,120,151,159,106,174,279,86,\n",
    "                 188,201,120,48,156,145,81,53,161]\n",
    "\n",
    "actualMean=mean(assaultRateList)\n",
    "actualSD=standardDeviation(assaultRateList)\n",
    "print(\"Actual Mean & SD = (\",actualMean, actualSD,\")\")\n",
    "\n",
    "# n indicates the number of values/list length\n",
    "for n in [50**1, 50**2, 50**3,50**4]:\n",
    "    (computedMean,computedSD),(worstMean,worstSD)=gaussianRandom(actualMean, actualSD, n)\n",
    "    print(\"For n=\",n)\n",
    "    print(\"Computed Mean & SD = (\",computedMean, computedSD,\")\")\n",
    "    print(\"Worst Mean & SD = (\", worstMean, worstSD,\")\")\n"
   ]
  },
  {
   "cell_type": "markdown",
   "metadata": {},
   "source": [
    "# Inference drawn:\n",
    "\n",
    "It can be seen from the output that the computed mean and standard deviation values for the entire generated list as well as the worst mean and standard deviation values for the subset lists tend to get closer to the actual mean and standard deviation for the original data. \n",
    "When we ran the gaussianRandom function in loop for n= 50, 50^2, 50^3 & 50^4, we can see that the computed & worst values of mean and standard deviation get closer and closer to the actual values of mean and standard deviation with increasing value of n. "
   ]
  }
 ],
 "metadata": {
  "anaconda-cloud": {},
  "kernelspec": {
   "display_name": "Python [default]",
   "language": "python",
   "name": "python3"
  },
  "language_info": {
   "codemirror_mode": {
    "name": "ipython",
    "version": 3
   },
   "file_extension": ".py",
   "mimetype": "text/x-python",
   "name": "python",
   "nbconvert_exporter": "python",
   "pygments_lexer": "ipython3",
   "version": "3.5.2"
  }
 },
 "nbformat": 4,
 "nbformat_minor": 1
}
